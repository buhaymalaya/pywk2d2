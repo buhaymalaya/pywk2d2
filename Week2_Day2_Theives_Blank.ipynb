{
 "cells": [
  {
   "cell_type": "markdown",
   "metadata": {},
   "source": [
    "# Functions, Scoping, Data Collections 1 & List Comprehensions"
   ]
  },
  {
   "attachments": {},
   "cell_type": "markdown",
   "metadata": {},
   "source": [
    "## Tasks Today:\n",
    "\n",
    "1) String Manipulation <br>\n",
    " &nbsp;&nbsp;&nbsp;&nbsp; a) strip() <br>\n",
    " &nbsp;&nbsp;&nbsp;&nbsp; b) title() <br>\n",
    "1) Working With Lists <br>\n",
    " &nbsp;&nbsp;&nbsp;&nbsp; a) min() <br>\n",
    " &nbsp;&nbsp;&nbsp;&nbsp; b) max() <br>\n",
    " &nbsp;&nbsp;&nbsp;&nbsp; c) sum() <br>\n",
    " &nbsp;&nbsp;&nbsp;&nbsp; d) sort() <br>\n",
    " &nbsp;&nbsp;&nbsp;&nbsp; e) Copying a List <br>\n",
    " &nbsp;&nbsp;&nbsp;&nbsp; i) Checking an Empty List <br>\n",
    " &nbsp;&nbsp;&nbsp;&nbsp; j) Removing Instances with a Loop <br>\n",
    "1) List Comprehensions <br>\n",
    "2) Tuples <br>\n",
    " &nbsp;&nbsp;&nbsp;&nbsp; a) sorted() <br>\n",
    "1) Functions <br>\n",
    " &nbsp;&nbsp;&nbsp;&nbsp; a) User-Defined vs. Built-In Functions <br>\n",
    " &nbsp;&nbsp;&nbsp;&nbsp; b) Accepting Parameters <br>\n",
    " &nbsp;&nbsp;&nbsp;&nbsp; c) Default Parameters <br>\n",
    " &nbsp;&nbsp;&nbsp;&nbsp; d) Making an Argument Optional <br>\n",
    " &nbsp;&nbsp;&nbsp;&nbsp; e) Keyword Arguments <br>\n",
    " &nbsp;&nbsp;&nbsp;&nbsp; f) Returning Values <br>\n",
    " &nbsp;&nbsp;&nbsp;&nbsp; g) *args & **kwargs<br>\n",
    " &nbsp;&nbsp;&nbsp;&nbsp; h) Docstring <br>\n",
    " &nbsp;&nbsp;&nbsp;&nbsp; i) Using a User Function in a Loop <br>\n",
    "1) Scope"
   ]
  },
  {
   "cell_type": "markdown",
   "metadata": {},
   "source": [
    "### String Manipulation"
   ]
  },
  {
   "attachments": {},
   "cell_type": "markdown",
   "metadata": {},
   "source": [
    "##### .lstrip() - Remove spaces on the left side of the string"
   ]
  },
  {
   "cell_type": "code",
   "execution_count": 9,
   "metadata": {},
   "outputs": [
    {
     "name": "stdout",
     "output_type": "stream",
     "text": [
      "      thieves\n",
      "thieves\n",
      "thieves\n"
     ]
    }
   ],
   "source": [
    "# string.lstrip()\n",
    "# can pass argument to specify what characters to strip \n",
    "#ONLY ON THE LEFT SIDE\n",
    "\n",
    "thieves = '      thieves'\n",
    "\n",
    "print(thieves)\n",
    "print(thieves.lstrip())\n",
    "\n",
    "thieves = '    %&$  thieves'\n",
    "print(thieves.lstrip(' %&$ '))"
   ]
  },
  {
   "attachments": {},
   "cell_type": "markdown",
   "metadata": {},
   "source": [
    "##### .rstrip() - Remove spaces on the right side of the string"
   ]
  },
  {
   "cell_type": "code",
   "execution_count": null,
   "metadata": {},
   "outputs": [],
   "source": [
    "# string.rstrip()\n"
   ]
  },
  {
   "attachments": {},
   "cell_type": "markdown",
   "metadata": {},
   "source": [
    "##### .strip() - Remove spaces at the beginning and at the end of the string"
   ]
  },
  {
   "cell_type": "code",
   "execution_count": null,
   "metadata": {},
   "outputs": [],
   "source": [
    "# string.strip()\n",
    "# SPECIFY ALL CHARACTERS INCLUDING SPACES AND ADD '' \n"
   ]
  },
  {
   "attachments": {},
   "cell_type": "markdown",
   "metadata": {},
   "source": [
    "##### .title() - returns a string where the first character in every word is upper case"
   ]
  },
  {
   "cell_type": "code",
   "execution_count": 12,
   "metadata": {},
   "outputs": [
    {
     "name": "stdout",
     "output_type": "stream",
     "text": [
      "Hello Thieves Welcome To Python\n",
      "HELLO THIEVES WELCOME TO PYTHON\n",
      "hello thieves welcome to python\n"
     ]
    }
   ],
   "source": [
    "# string.title()\n",
    "# GOES THROUGH EVERY SINGLE WORD AND CAPITALIZES FIRST LETTER OF EACH WORD\n",
    "\n",
    "greeting = 'hello thieves welcome to python'\n",
    "print(greeting.title())\n",
    "\n",
    "print(greeting.upper())\n",
    "\n",
    "print(greeting.lower())"
   ]
  },
  {
   "cell_type": "markdown",
   "metadata": {},
   "source": [
    "### String Exercise <br>\n",
    "<p>Strip all white space and capitalize every name in the list given</p>"
   ]
  },
  {
   "cell_type": "code",
   "execution_count": 26,
   "metadata": {},
   "outputs": [
    {
     "name": "stdout",
     "output_type": "stream",
     "text": [
      "Connor\n",
      "Max\n",
      "Evan \n",
      "Jordan\n"
     ]
    }
   ],
   "source": [
    "names = ['    coNNor', 'max', ' EVan ', 'JORDAN']\n",
    "# HINT: You will need to use a for loop for iteration\n",
    "\n",
    "for name in names:\n",
    "    print(name.lstrip().title())\n",
    "\n"
   ]
  },
  {
   "cell_type": "markdown",
   "metadata": {},
   "source": [
    "### Working With Lists"
   ]
  },
  {
   "attachments": {},
   "cell_type": "markdown",
   "metadata": {},
   "source": [
    "##### min() - returns the item with the lowest value, or the item with the lowest value in an iterable."
   ]
  },
  {
   "cell_type": "code",
   "execution_count": 27,
   "metadata": {},
   "outputs": [
    {
     "name": "stdout",
     "output_type": "stream",
     "text": [
      "-23\n"
     ]
    }
   ],
   "source": [
    "# min(list)\n",
    "\n",
    "nums = [1,24,56,-23,18,107]\n",
    "\n",
    "print(min(nums))"
   ]
  },
  {
   "attachments": {},
   "cell_type": "markdown",
   "metadata": {},
   "source": [
    "##### max() - returns the item with the highest value, or the item with the highest value in an iterable."
   ]
  },
  {
   "cell_type": "code",
   "execution_count": 30,
   "metadata": {},
   "outputs": [
    {
     "name": "stdout",
     "output_type": "stream",
     "text": [
      "107\n",
      "Shoha\n",
      "Christian\n"
     ]
    }
   ],
   "source": [
    "# max(list)\n",
    "\n",
    "nums = [1,24,56,-23,18,107]\n",
    "print(max(nums))\n",
    "\n",
    "names = ['Dylan', 'Christian', 'Shoha']\n",
    "print(max(names))\n",
    "# Who has the first greatest \n",
    "# character b/c Z is highest and A is lowest\n",
    "\n",
    "names = ['Dylan', 'Christian', 'Shoha']\n",
    "print(min(names))"
   ]
  },
  {
   "attachments": {},
   "cell_type": "markdown",
   "metadata": {},
   "source": [
    "##### sum() - returns a number, the sum of all items in an iterable."
   ]
  },
  {
   "cell_type": "code",
   "execution_count": 31,
   "metadata": {},
   "outputs": [
    {
     "name": "stdout",
     "output_type": "stream",
     "text": [
      "158.3\n"
     ]
    }
   ],
   "source": [
    "# sum(list)\n",
    "\n",
    "nums = [1,24,56,-23,18,107, -24.7]\n",
    "\n",
    "total = sum(nums)\n",
    "print(total)\n"
   ]
  },
  {
   "attachments": {},
   "cell_type": "markdown",
   "metadata": {},
   "source": [
    "##### sorted() - returns a sorted list of the specified iterable object."
   ]
  },
  {
   "cell_type": "code",
   "execution_count": 34,
   "metadata": {},
   "outputs": [
    {
     "name": "stdout",
     "output_type": "stream",
     "text": [
      "[-24.7, -23, 1, 18, 24, 56, 107]\n",
      "[1, 24, 56, -23, 18, 107, -24.7]\n",
      "[107, 56, 24, 18, 1, -23, -24.7]\n"
     ]
    }
   ],
   "source": [
    "# sorted(list)\n",
    "# sorted does not affect the original list, it returns a copy\n",
    "# can pass argument to reverse sorted order\n",
    "\n",
    "nums = [1,24,56,-23,18,107, -24.7]\n",
    "sorted_nums = sorted(nums)\n",
    "print(sorted_nums)\n",
    "\n",
    "print(nums)\n",
    "\n",
    "# DESCENDING\n",
    "\n",
    "nums = [1,24,56,-23,18,107, -24.7]\n",
    "sorted_nums = sorted(nums, reverse=True)\n",
    "print(sorted_nums)"
   ]
  },
  {
   "cell_type": "markdown",
   "metadata": {},
   "source": [
    "##### .sort() <br>\n",
    "<p>Difference between sort and sorted, is that sorted doesn't change original list it returns a copy, while .sort changes the original list</p>"
   ]
  },
  {
   "cell_type": "code",
   "execution_count": 35,
   "metadata": {},
   "outputs": [
    {
     "name": "stdout",
     "output_type": "stream",
     "text": [
      "[-24.7, -23, 1, 18, 24, 56, 107]\n"
     ]
    }
   ],
   "source": [
    "# list.sort()\n",
    "# use sorted when you don't want to alter original list, use .sort() when you want to alter original list\n",
    "\n",
    "nums = [1,24,56,-23,18,107, -24.7]\n",
    "\n",
    "nums.sort()\n",
    "print(nums)\n",
    "\n"
   ]
  },
  {
   "cell_type": "markdown",
   "metadata": {},
   "source": [
    "##### Copying a List"
   ]
  },
  {
   "cell_type": "code",
   "execution_count": 44,
   "metadata": {},
   "outputs": [
    {
     "name": "stdout",
     "output_type": "stream",
     "text": [
      "[1, 24, 56, -23, 18, 107, -24.7]\n",
      "[1, 24, 56, -23, 18, 107]\n",
      "[1, 24, 56, -23, 18, 107, -24.7]\n",
      "[1, 24, 56, -23, 18, 107]\n",
      "[1, 24, 56, -23, 18, 107, -24.7]\n",
      "[1, 24, 56, -23]\n",
      "[18, 107, -24.7]\n"
     ]
    }
   ],
   "source": [
    "# full slice - [:] copies a list, doesn't alter original\n",
    "# .copy() method\n",
    "\n",
    "nums = [1,24,56,-23,18,107, -24.7]\n",
    "new_nums = nums\n",
    "\n",
    "new_nums = nums.copy()\n",
    "print(new_nums)\n",
    "\n",
    "new_nums.pop()\n",
    "print(new_nums)\n",
    "print(nums)\n",
    "\n",
    "#full slice\n",
    "\n",
    "new_nums = nums[:]\n",
    "new_nums.pop()\n",
    "print(new_nums)\n",
    "print(nums)\n",
    "\n",
    "#SLICING - COPY PIECES OF A LIST\n",
    "# [start:stop]\n",
    "nums = [1,24,56,-23,18,107, -24.7]\n",
    "\n",
    "first_couple = nums[:4]\n",
    "print(first_couple)\n",
    "\n",
    "first_couple = nums[4:]\n",
    "print(first_couple)"
   ]
  },
  {
   "cell_type": "markdown",
   "metadata": {},
   "source": [
    "##### Checking an Empty List"
   ]
  },
  {
   "cell_type": "code",
   "execution_count": 48,
   "metadata": {},
   "outputs": [
    {
     "name": "stdout",
     "output_type": "stream",
     "text": [
      "Nothing here\n",
      "We have stuff in the list\n",
      "We have stuff in the list\n",
      "Nothing here\n"
     ]
    }
   ],
   "source": [
    "# if list1: or if list1 == []:\n",
    "\n",
    "nums=[]\n",
    "\n",
    "if nums:\n",
    "    print('We have stuff in the list')\n",
    "else:\n",
    "    print('Nothing here')\n",
    "\n",
    "nums=[1,2,3]\n",
    "\n",
    "if nums:\n",
    "    print('We have stuff in the list')\n",
    "else:\n",
    "    print('Nothing here')\n",
    "\n",
    "nums='why'\n",
    "\n",
    "if nums:\n",
    "    print('We have stuff in the list')\n",
    "else:\n",
    "    print('Nothing here')\n",
    "\n",
    "#ZERO HAS NO VALUE BUT NEGATIVES DO\n",
    "nums=0\n",
    "\n",
    "if nums:\n",
    "    print('We have stuff in the list')\n",
    "else:\n",
    "    print('Nothing here')"
   ]
  },
  {
   "cell_type": "markdown",
   "metadata": {},
   "source": [
    "##### Removing Instances with a Loop"
   ]
  },
  {
   "cell_type": "code",
   "execution_count": 54,
   "metadata": {},
   "outputs": [
    {
     "name": "stdout",
     "output_type": "stream",
     "text": [
      "['pepperoni', 'cheese', 'sausage', 'tomatoes', 'mushrooms']\n",
      "['pepperoni', 'cheese', 'sausage', 'tomatoes', 'mushrooms']\n",
      "['pepperoni', 'cheese', 'sausage', 'tomatoes', 'mushrooms']\n"
     ]
    }
   ],
   "source": [
    "# while & for, remove\n",
    "\n",
    "toppings = ['pepperoni', 'cheese', 'sausage', 'tomatoes', 'pineapple', 'pineapple', 'pineapple', 'mushrooms']\n",
    "\n",
    "toppings.remove('pineapple')\n",
    "toppings.remove('pineapple')\n",
    "toppings.remove('pineapple')\n",
    "print(toppings)\n",
    "\n",
    "for topping in toppings:\n",
    "    if topping == 'pineapple':\n",
    "        toppings.remove('pineapple')\n",
    "\n",
    "\n",
    "print(toppings)\n",
    "\n",
    "# USE WHILE LOOP FOR BULK REMOVAL\n",
    "\n",
    "while 'pineapple' in toppings:\n",
    "    toppings.remove('pineapple')\n",
    "\n",
    "print(toppings)"
   ]
  },
  {
   "cell_type": "markdown",
   "metadata": {},
   "source": [
    "### List Exercise <br>\n",
    "<p>Remove all duplicates<br><b>Extra: Create a program that will remove any duplicates from a given list</b></p>"
   ]
  },
  {
   "cell_type": "code",
   "execution_count": 62,
   "metadata": {},
   "outputs": [
    {
     "name": "stdout",
     "output_type": "stream",
     "text": [
      "['connor', 'bob', 'evan', 'max', 2, 3, 4, 'kevin']\n"
     ]
    }
   ],
   "source": [
    "names = ['connor', 'connor', 'bob', 'connor', 'evan', 'max', 'evan', 2, 2, 2, 3, 3, 4, 'bob', 'kevin']\n",
    "# Hint 1: You will need an append\n",
    "# Hint 2: Using an empty list will make life easier\n",
    "\n",
    "\n",
    "\n",
    "new_names = []\n",
    "for name in names:\n",
    "    if name not in new_names:\n",
    "        new_names.append(name)\n",
    "\n",
    "print(new_names)\n",
    "\n",
    "    \n"
   ]
  },
  {
   "attachments": {},
   "cell_type": "markdown",
   "metadata": {},
   "source": [
    "#### List Comprehension - offers a shorter syntax when you want to create a new list based on the values of an existing list."
   ]
  },
  {
   "attachments": {},
   "cell_type": "markdown",
   "metadata": {},
   "source": [
    "#### Syntax - newlist = [expression for item in iterable if condition == True]\n",
    "##### The return value is a new list, leaving the old list unchanged.\n",
    "##### The condition is like a filter that only accepts the items that valuate to True."
   ]
  },
  {
   "cell_type": "code",
   "execution_count": 68,
   "metadata": {},
   "outputs": [
    {
     "name": "stdout",
     "output_type": "stream",
     "text": [
      "[0, 2, 4, 6, 8, 10]\n",
      "[0, 2, 4, 6, 8, 10]\n"
     ]
    }
   ],
   "source": [
    "# number list comprehension\n",
    "\n",
    "# With a regular for loop\n",
    "\n",
    "evens = []\n",
    "for num in range(11):\n",
    "    if num % 2 == 0:\n",
    "        evens.append(num)\n",
    "\n",
    "print(evens)\n",
    "\n",
    "# List Comprehension - shorter syntax\n",
    "\n",
    "#newlist = [appended element for element in interable (if condition)]\n",
    "\n",
    "evens = [num for num in range(11) if num % 2 == 0]\n",
    "\n",
    "print(evens)"
   ]
  },
  {
   "attachments": {},
   "cell_type": "markdown",
   "metadata": {},
   "source": [
    "There are a few benefits to using List comprehensions. The most obvious would be that we now have shorter code to work with instead of using 3+ lines of code in the for loop variant.\n",
    "\n",
    "More time-efficient and space-efficient than loops.\n",
    "\n",
    "Lastly, list comprehensions are considered the \"pythonic\" way to write code."
   ]
  },
  {
   "cell_type": "code",
   "execution_count": 70,
   "metadata": {},
   "outputs": [
    {
     "name": "stdout",
     "output_type": "stream",
     "text": [
      "[0, 1, 4, 9, 16, 25, 36, 49, 64, 81]\n",
      "[0, 1, 4, 9, 16, 25, 36, 49, 64, 81]\n"
     ]
    }
   ],
   "source": [
    "# long-form\n",
    "\n",
    "square = []\n",
    "\n",
    "for num in range(10):\n",
    "    square.append(num**2)\n",
    "\n",
    "print(square)\n",
    "\n",
    "# square number list comprehension\n",
    "\n",
    "square = [num**2 for num in range(10)]\n",
    "print(square)\n"
   ]
  },
  {
   "cell_type": "code",
   "execution_count": 73,
   "metadata": {},
   "outputs": [
    {
     "name": "stdout",
     "output_type": "stream",
     "text": [
      "['Michael', 'Regina', 'Tommy', 'Tez']\n",
      "['Michael', 'Regina', 'Tommy', 'Tez']\n",
      "['Michael', 'Regina', 'Tommy', 'Tez']\n",
      "Michael Regina Tommy Tez\n"
     ]
    }
   ],
   "source": [
    "# string list comprehension\n",
    "\n",
    "names = ['michael', 'regina', 'tommy', 'tez']\n",
    "\n",
    "cap_names = []\n",
    "for name in names:\n",
    "    cap_names.append(name.capitalize())\n",
    "\n",
    "print(cap_names)\n",
    "\n",
    "cap_names = [name.capitalize() for name in names]\n",
    "\n",
    "print(cap_names)\n",
    "\n",
    "# add strings into one string .join()\n",
    "\n",
    "names = ['michael', 'regina', 'tommy', 'tez']\n",
    "cap_names = [name.capitalize() for name in names]\n",
    "\n",
    "print(cap_names)\n",
    "\n",
    "print(' '.join(cap_names)) #add 'space' before .join\n",
    "\n",
    "# .split() - does the opposite of .join?\n"
   ]
  },
  {
   "attachments": {},
   "cell_type": "markdown",
   "metadata": {},
   "source": [
    "### Tuples - Collection which is ordered, unchangeable, and allow duplicate values."
   ]
  },
  {
   "cell_type": "code",
   "execution_count": 75,
   "metadata": {},
   "outputs": [
    {
     "name": "stdout",
     "output_type": "stream",
     "text": [
      "<class 'tuple'>\n",
      "[321, 456, 789]\n"
     ]
    }
   ],
   "source": [
    "# similar to lists tuple =() but permanent placements\n",
    "\n",
    "codes = (123,456,789)\n",
    "\n",
    "print(type(codes))\n",
    "\n",
    "#compared to lists\n",
    "\n",
    "codes = [123,456,789]\n",
    "codes[0] = 321\n",
    "print(codes)\n",
    "\n"
   ]
  },
  {
   "cell_type": "markdown",
   "metadata": {},
   "source": [
    "##### sorted()"
   ]
  },
  {
   "cell_type": "code",
   "execution_count": null,
   "metadata": {},
   "outputs": [],
   "source": [
    "sorted_codes = sorted(codes)\n",
    "print(sorted_codes)"
   ]
  },
  {
   "cell_type": "markdown",
   "metadata": {},
   "source": [
    "##### Adding values to a Tuple"
   ]
  },
  {
   "cell_type": "code",
   "execution_count": 77,
   "metadata": {},
   "outputs": [
    {
     "name": "stdout",
     "output_type": "stream",
     "text": [
      "(123, 456, 789, 12, 10)\n"
     ]
    }
   ],
   "source": [
    "codes = (123,456,789)\n",
    "\n",
    "codes = codes + (12,)\n",
    "codes += (10,)\n",
    "\n",
    "print(codes)"
   ]
  },
  {
   "cell_type": "markdown",
   "metadata": {},
   "source": [
    "## Functions"
   ]
  },
  {
   "cell_type": "markdown",
   "metadata": {},
   "source": [
    "##### User-Defined vs. Built-In Functions"
   ]
  },
  {
   "cell_type": "code",
   "execution_count": 79,
   "metadata": {},
   "outputs": [
    {
     "name": "stdout",
     "output_type": "stream",
     "text": [
      "<function greet at 0x1215d2980>\n",
      "Hello There!\n"
     ]
    }
   ],
   "source": [
    "#User-defined\n",
    "\n",
    "# def name of function-any kind(parameters):\n",
    "\n",
    "def greet():\n",
    "    return 'Hello There!'\n",
    "\n",
    "#Built-In Print, showing the function in memory\n",
    "\n",
    "print(greet)\n",
    "\n",
    "#Built_in Print, calling the function\n",
    "\n",
    "print(greet())\n"
   ]
  },
  {
   "cell_type": "markdown",
   "metadata": {},
   "source": [
    "##### Accepting Parameters"
   ]
  },
  {
   "cell_type": "code",
   "execution_count": 83,
   "metadata": {},
   "outputs": [
    {
     "name": "stdout",
     "output_type": "stream",
     "text": [
      "Dylan Katina\n",
      "Christian Sachs\n",
      "Katina Dylan\n",
      "Sachs Christian\n"
     ]
    }
   ],
   "source": [
    "# Order matters\n",
    "# A variable can be of any type of object\n",
    "# How functions receive data and run them\n",
    "# recyclable code\n",
    "\n",
    "def full_name(first, last):\n",
    "    full = first + ' ' + last\n",
    "    return full\n",
    "\n",
    "print(full_name('Dylan', 'Katina'))\n",
    "print(full_name('Christian', 'Sachs'))\n",
    "\n",
    "def full_name(last, first):\n",
    "    full = first + ' ' + last\n",
    "    return full\n",
    "\n",
    "print(full_name('Dylan', 'Katina'))\n",
    "print(full_name('Christian', 'Sachs'))"
   ]
  },
  {
   "cell_type": "markdown",
   "metadata": {},
   "source": [
    "##### Default Parameters"
   ]
  },
  {
   "cell_type": "code",
   "execution_count": 86,
   "metadata": {},
   "outputs": [
    {
     "name": "stdout",
     "output_type": "stream",
     "text": [
      "This cohort, Thieves-139, is taught by Christian and Dylan.\n",
      "This cohort, Thieves, is taught by Christian and Dylan.\n"
     ]
    }
   ],
   "source": [
    "# default parameters need to be AFTER non-default parameters at all times\n",
    "\n",
    "def class_info(ins1,ins2,cohort='Thieves'):\n",
    "    return f'This cohort, {cohort}, is taught by {ins1} and {ins2}.'\n",
    "\n",
    "print(class_info('Christian', 'Dylan', 'Thieves-139'))\n",
    "# ARGUMENTS ARE THE NAMES IN PARENTHESIS AND THEY ARE ASSIGNED TO PARAMETERS\n",
    "\n",
    "print(class_info('Christian', 'Dylan'))\n"
   ]
  },
  {
   "cell_type": "markdown",
   "metadata": {},
   "source": [
    "##### Making an Argument Optional"
   ]
  },
  {
   "cell_type": "code",
   "execution_count": 89,
   "metadata": {},
   "outputs": [
    {
     "name": "stdout",
     "output_type": "stream",
     "text": [
      "Introducing Dylan Hurricane Katina\n",
      "Introducing Buhay Malaya\n"
     ]
    }
   ],
   "source": [
    "# PLAYING WITH DEFAULT VARIABLES\n",
    "# put an empty string to make it OPTIONAL\n",
    "\n",
    "def nickname(first,last,nickname=''):\n",
    "    if nickname:\n",
    "        return f\"Introducing {first} {nickname} {last}\"\n",
    "    \n",
    "    else:\n",
    "        return f\"Introducing {first} {last}\"\n",
    "\n",
    "print(nickname('Dylan', 'Katina', 'Hurricane'))\n",
    "\n",
    "print(nickname('Buhay', 'Malaya'))"
   ]
  },
  {
   "cell_type": "markdown",
   "metadata": {},
   "source": [
    "# Creating a start, stop, step function"
   ]
  },
  {
   "cell_type": "code",
   "execution_count": 92,
   "metadata": {},
   "outputs": [
    {
     "name": "stdout",
     "output_type": "stream",
     "text": [
      "[0, 2, 4, 6, 8]\n"
     ]
    }
   ],
   "source": [
    "# SIMILAR TO RANGE()\n",
    "\n",
    "def my_range(stop, start=0, step=1):\n",
    "    output = []\n",
    "    while start < stop:\n",
    "        output.append(start)\n",
    "        start += step\n",
    "    return output\n",
    "\n",
    "print(my_range(10, 0, 2))\n"
   ]
  },
  {
   "cell_type": "markdown",
   "metadata": {},
   "source": [
    "##### Returning Values"
   ]
  },
  {
   "cell_type": "code",
   "execution_count": null,
   "metadata": {},
   "outputs": [],
   "source": [
    "# when returning a value it ends the function\n",
    "\n",
    "\n"
   ]
  },
  {
   "attachments": {},
   "cell_type": "markdown",
   "metadata": {},
   "source": [
    "##### *args/**kwargs (A.K.A. KeyWord Arguments)##### *args"
   ]
  },
  {
   "cell_type": "code",
   "execution_count": 99,
   "metadata": {},
   "outputs": [
    {
     "name": "stdout",
     "output_type": "stream",
     "text": [
      "This class will be taught by Christian and Dylan\n",
      "('Tez', 'Sabita', 'Dyllorian', 'Buhay', 'Edwin', 'Rahel')\n",
      "-------------Students-----------\n",
      "Tez\n",
      "Sabita\n",
      "Dyllorian\n",
      "Buhay\n",
      "Edwin\n",
      "Rahel\n",
      "Hi, I am Dylan, this is what I do in a day\n",
      "{'nine': 'wakeup', 'ten': 'eat breakfast', 'sixpm': 'start class'}\n",
      "nine: wakeup\n",
      "ten: eat breakfast\n",
      "sixpm: start class\n"
     ]
    }
   ],
   "source": [
    "# *args = unlimited amount of arguments, function stores as tuple\n",
    "# denoted by asterisk\n",
    "def thieves(ins1,ins2,*students):\n",
    "    print(f'This class will be taught by {ins1} and {ins2}')\n",
    "\n",
    "    print(students)\n",
    "\n",
    "    print('-------------Students-----------')\n",
    "\n",
    "    for student in students:\n",
    "        print(student)\n",
    "\n",
    "thieves('Christian', 'Dylan', 'Tez', 'Sabita', 'Dyllorian', 'Buhay', 'Edwin', 'Rahel')\n",
    "\n",
    "\n",
    "# **kwargs = unlimited amount of keyword arguments, function stores as dictionary\n",
    "\n",
    "\n",
    "def routine(person,**tasks):\n",
    "    print(f'Hi, I am {person}, this is what I do in a day')\n",
    "\n",
    "    print(tasks)\n",
    "    for key, value in tasks.items():\n",
    "        print(f\"{key}: {value}\")\n",
    "\n",
    "routine('Dylan', nine='wakeup', ten='eat breakfast', sixpm='start class')\n"
   ]
  },
  {
   "attachments": {},
   "cell_type": "markdown",
   "metadata": {},
   "source": [
    "##### Docstring - Multi-line Comment"
   ]
  },
  {
   "cell_type": "code",
   "execution_count": 101,
   "metadata": {},
   "outputs": [
    {
     "name": "stdout",
     "output_type": "stream",
     "text": [
      "Yesenia\n",
      "Jay\n",
      "Sarah\n",
      "Help on function pn in module __main__:\n",
      "\n",
      "pn(names_list)\n",
      "    # 3 apostrophes\n",
      "    This function takes in a list of names\n",
      "    and prints each name out for name in list\n",
      "\n"
     ]
    }
   ],
   "source": [
    "# Allows you to write documentation for user-defined functions\n",
    "\n",
    "def pn(names_list):\n",
    "\n",
    "    ''' # 3 apostrophes\n",
    "        This function takes in a list of names\n",
    "        and prints each name out for name in list\n",
    "    '''\n",
    "\n",
    "    for name in names_list:\n",
    "        print(name)\n",
    "\n",
    "\n",
    "pn(['Yesenia', 'Jay', 'Sarah'])\n",
    "\n",
    "help(pn)"
   ]
  },
  {
   "cell_type": "markdown",
   "metadata": {},
   "source": [
    "##### Using a User Function in a Loop"
   ]
  },
  {
   "cell_type": "code",
   "execution_count": 102,
   "metadata": {},
   "outputs": [
    {
     "name": "stdout",
     "output_type": "stream",
     "text": [
      "[28]\n"
     ]
    }
   ],
   "source": [
    "def check_even(num):\n",
    "    if num % 2 == 0:\n",
    "        return True\n",
    "    else:\n",
    "        return False\n",
    "    \n",
    "nums = [1,45,28,33,91,57]\n",
    "\n",
    "evens = []\n",
    "for num in nums:\n",
    "    if check_even(num):\n",
    "        evens.append(num)\n",
    "    \n",
    "print(evens)"
   ]
  },
  {
   "cell_type": "markdown",
   "metadata": {},
   "source": [
    "## Function Exercise <br>\n",
    "<p>Write a function that loops through a list of first_names and a list of last_names, combines the two and return a list of full_names</p>"
   ]
  },
  {
   "cell_type": "code",
   "execution_count": 106,
   "metadata": {},
   "outputs": [
    {
     "name": "stdout",
     "output_type": "stream",
     "text": [
      "['John Smith', 'Evan Smith', 'Jordan Williams', 'Max Bell']\n"
     ]
    }
   ],
   "source": [
    "first_names = ['John', 'Evan', 'Jordan', 'Max']\n",
    "last_names = ['Smith', 'Smith', 'Williams', 'Bell']\n",
    "\n",
    "# Output: ['John Smith', 'Evan Smith', 'Jordan Williams', 'Max Bell']\n",
    "# takes in two lists one with first and one with last\n",
    "# returns one list of full names\n",
    "\n",
    "def full_names(firsts,lasts):\n",
    "    full_names = []\n",
    "\n",
    "    for position in range(len(firsts)):\n",
    "        full_name = firsts[position] + ' ' + lasts[position]\n",
    "        full_names.append(full_name)\n",
    "\n",
    "    return full_names\n",
    "\n",
    "print(full_names(first_names, last_names))\n",
    "    "
   ]
  },
  {
   "attachments": {},
   "cell_type": "markdown",
   "metadata": {},
   "source": [
    "## Scope <br>\n",
    "<p>Scope refers to the ability to access variables, different types of scope include:<br>a) Global<br>b) Function (local)</p>"
   ]
  },
  {
   "cell_type": "code",
   "execution_count": 108,
   "metadata": {},
   "outputs": [
    {
     "name": "stdout",
     "output_type": "stream",
     "text": [
      "3\n"
     ]
    }
   ],
   "source": [
    "\n",
    "x = 3\n",
    "# now x is a global variable for any level of code\n",
    "\n",
    "\n",
    "def my_num():\n",
    "    local_num = 2\n",
    "    print(x)\n",
    "\n",
    "my_num()\n",
    "\n",
    "# local is something that lives within a block of code\n",
    "# you only have access to local num if you live within neighborhood\n",
    "\n",
    "\n",
    "\n",
    "\n"
   ]
  },
  {
   "cell_type": "markdown",
   "metadata": {},
   "source": [
    "# Exercises"
   ]
  },
  {
   "cell_type": "markdown",
   "metadata": {},
   "source": [
    "## Exercise 1 <br>\n",
    "<p>Given a list as a parameter,write a function that returns a list of numbers that are less than ten</b></i></p><br>\n",
    "<p> For example: Say your input parameter to the function is [1,11,14,5,8,9]...Your output should [1,5,8,9]</p>"
   ]
  },
  {
   "cell_type": "code",
   "execution_count": 22,
   "metadata": {},
   "outputs": [
    {
     "data": {
      "text/plain": [
       "[1, 5, 8, 9]"
      ]
     },
     "execution_count": 22,
     "metadata": {},
     "output_type": "execute_result"
    }
   ],
   "source": [
    "# Use the following list - [1,11,14,5,8,9]\n",
    "\n",
    "l_1 = [1,11,14,5,8,9]\n",
    "\n",
    "def new_list(list):\n",
    "    l_2 = []\n",
    "    for num in list:\n",
    "        if num < 10:\n",
    "            l_2.append(num)\n",
    "    return l_2\n",
    "\n",
    "new_list(l_1)\n",
    "\n"
   ]
  },
  {
   "cell_type": "markdown",
   "metadata": {},
   "source": []
  },
  {
   "cell_type": "markdown",
   "metadata": {},
   "source": [
    "## Exercise 2 <br>\n",
    "<p>Write a function that takes in two lists and returns the two lists merged together and sorted<br>\n",
    "<b><i>Hint: You can use the .sort() method</i></b></p>"
   ]
  },
  {
   "cell_type": "code",
   "execution_count": 7,
   "metadata": {},
   "outputs": [
    {
     "name": "stdout",
     "output_type": "stream",
     "text": [
      "[1, 2, 3, 4, 5, 6, 3, 4, 5, 6, 7, 8, 10]\n",
      "[1, 2, 3, 3, 4, 4, 5, 5, 6, 6, 7, 8, 10]\n"
     ]
    }
   ],
   "source": [
    "l_1 = [1,2,3,4,5,6]\n",
    "l_2 = [3,4,5,6,7,8,10]\n",
    "\n",
    "#  l_3 = []\n",
    "\n",
    "# for l in l_2:\n",
    "#     l_1.append(l)\n",
    "#     print(l_1)\n",
    "\n",
    "l_3 = l_1 + l_2\n",
    "print(l_3)\n",
    "\n",
    "sorted_list = sorted(l_3)\n",
    "print(sorted_list)\n",
    "    \n",
    "\n",
    "\n",
    "\n"
   ]
  }
 ],
 "metadata": {
  "kernelspec": {
   "display_name": "Python 3",
   "language": "python",
   "name": "python3"
  },
  "language_info": {
   "codemirror_mode": {
    "name": "ipython",
    "version": 3
   },
   "file_extension": ".py",
   "mimetype": "text/x-python",
   "name": "python",
   "nbconvert_exporter": "python",
   "pygments_lexer": "ipython3",
   "version": "3.11.5"
  },
  "vscode": {
   "interpreter": {
    "hash": "aa82987a71ca0339a52998cd22613b0c002bda8349fa32a0cb67ceec3936a2bf"
   }
  }
 },
 "nbformat": 4,
 "nbformat_minor": 2
}
